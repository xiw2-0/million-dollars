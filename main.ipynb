{
 "cells": [
  {
   "cell_type": "code",
   "execution_count": 2,
   "metadata": {},
   "outputs": [],
   "source": [
    "import assets\n",
    "import portfolios"
   ]
  },
  {
   "cell_type": "code",
   "execution_count": 3,
   "metadata": {},
   "outputs": [
    {
     "name": "stdout",
     "output_type": "stream",
     "text": [
      "Got an error: time data '\\ufeff日期Date' does not match format '%Y%m%d', skipping line 0\n",
      "Got an error: time data '\\ufeff日期Date' does not match format '%Y%m%d', skipping line 0\n",
      "Got an error: time data 'Date' does not match format '%m/%d/%Y', skipping line 0\n",
      "Got an error: time data 'date' does not match format '%Y/%m/%d', skipping line 0\n"
     ]
    }
   ],
   "source": [
    "candidates = [a for a in assets.get_assets().values()]\n",
    "# portfolios.plot_portfolios(candidates, 10)\n",
    "\n",
    "bests = portfolios.find_best_portfolios(candidates, 10)"
   ]
  },
  {
   "cell_type": "code",
   "execution_count": 7,
   "metadata": {},
   "outputs": [
    {
     "name": "stdout",
     "output_type": "stream",
     "text": [
      "[return, risk, weights]: [0.02, 0.015912444991696553, ['CSI Bond Fund Index'], [1.0]]\n",
      "[return, risk, weights]: [0.03, 0.027810010944465172, ['CSI Bond Fund Index', 'S&P 500'], [0.9, 0.1]]\n",
      "[return, risk, weights]: [0.04, 0.033151114410756403, ['SSE STAR Chip Index', 'CSI Bond Fund Index'], [0.1, 0.9]]\n",
      "[return, risk, weights]: [0.05, 0.05415920923942432, ['SSE STAR Chip Index', 'CSI Bond Fund Index', 'NASDAQ 100'], [0.1, 0.8, 0.1]]\n",
      "[return, risk, weights]: [0.06, 0.06564168589467727, ['SSE STAR Chip Index', 'CSI Bond Fund Index', 'NASDAQ 100', 'S&P 500'], [0.1, 0.7, 0.1, 0.1]]\n",
      "[return, risk, weights]: [0.07, 0.07635080811320957, ['CSI Bond Fund Index', 'NASDAQ 100'], [0.7, 0.3]]\n",
      "[return, risk, weights]: [0.08, 0.09573467805125636, ['SSE STAR Chip Index', 'CSI Bond Fund Index', 'NASDAQ 100'], [0.1, 0.6, 0.3]]\n",
      "[return, risk, weights]: [0.09, 0.10764499841858668, ['SSE STAR Chip Index', 'CSI Bond Fund Index', 'NASDAQ 100', 'S&P 500'], [0.1, 0.5, 0.3, 0.1]]\n",
      "[return, risk, weights]: [0.1, 0.12848534477738255, ['SSE STAR Chip Index', 'CSI Bond Fund Index', 'NASDAQ 100', 'S&P 500'], [0.1, 0.4, 0.4, 0.1]]\n",
      "[return, risk, weights]: [0.11, 0.13716772910999803, ['SSE STAR Chip Index', 'CSI Bond Fund Index', 'NASDAQ 100'], [0.1, 0.4, 0.5]]\n",
      "[return, risk, weights]: [0.12, 0.15786590934177697, ['SSE STAR Chip Index', 'CSI Bond Fund Index', 'NASDAQ 100'], [0.1, 0.3, 0.6]]\n",
      "[return, risk, weights]: [0.13, 0.1700412350496847, ['SSE STAR Chip Index', 'CSI Bond Fund Index', 'NASDAQ 100', 'S&P 500'], [0.1, 0.2, 0.6, 0.1]]\n",
      "[return, risk, weights]: [0.14, 0.1794795884777471, ['CSI Bond Fund Index', 'NASDAQ 100'], [0.2, 0.8]]\n",
      "[return, risk, weights]: [0.15, 0.19924463781276386, ['SSE STAR Chip Index', 'CSI Bond Fund Index', 'NASDAQ 100'], [0.1, 0.1, 0.8]]\n",
      "[return, risk, weights]: [0.16, 0.21151243013912802, ['SSE STAR Chip Index', 'NASDAQ 100', 'S&P 500'], [0.1, 0.8, 0.1]]\n",
      "[return, risk, weights]: [0.17, 0.2410223033399059, ['SSE STAR Chip Index', 'CSI Liquor Index', 'NASDAQ 100', 'S&P 500'], [0.1, 0.1, 0.7, 0.1]]\n",
      "[return, risk, weights]: [0.18, 0.24944230680110444, ['SSE STAR Chip Index', 'CSI Liquor Index', 'NASDAQ 100'], [0.1, 0.1, 0.8]]\n",
      "[return, risk, weights]: [0.19, 0.2789763470314059, ['SSE STAR Chip Index', 'CSI Liquor Index', 'NASDAQ 100'], [0.2, 0.2, 0.6]]\n",
      "[return, risk, weights]: [0.2, 0.3091387017904132, ['SSE STAR Chip Index', 'CSI Liquor Index', 'NASDAQ 100'], [0.3, 0.3, 0.4]]\n",
      "[return, risk, weights]: [0.21, 0.3363847609155314, ['SSE STAR Chip Index', 'CSI Liquor Index', 'NASDAQ 100', 'S&P 500'], [0.1, 0.4, 0.4, 0.1]]\n",
      "[return, risk, weights]: [0.22, 0.36436648845975417, ['SSE STAR Chip Index', 'CSI Liquor Index', 'NASDAQ 100', 'S&P 500'], [0.2, 0.5, 0.2, 0.1]]\n",
      "[return, risk, weights]: [0.23, 0.3776685279242615, ['SSE STAR Chip Index', 'CSI Liquor Index', 'NASDAQ 100'], [0.1, 0.5, 0.4]]\n",
      "[return, risk, weights]: [0.24, 0.4055403339510377, ['SSE STAR Chip Index', 'CSI Liquor Index', 'NASDAQ 100'], [0.2, 0.6, 0.2]]\n",
      "[return, risk, weights]: [0.25, 0.43407949145139685, ['SSE STAR Chip Index', 'CSI Liquor Index'], [0.3, 0.7]]\n",
      "[return, risk, weights]: [0.26, 0.4707148998436961, ['SSE STAR Chip Index', 'CSI Liquor Index', 'S&P 500'], [0.1, 0.8, 0.1]]\n",
      "[return, risk, weights]: [0.27, 0.5084952695489925, ['CSI New Energy Index', 'CSI Liquor Index', 'NASDAQ 100'], [0.1, 0.8, 0.1]]\n",
      "[return, risk, weights]: [0.28, 0.5128802782643557, ['SSE STAR Chip Index', 'CSI Liquor Index'], [0.1, 0.9]]\n",
      "[return, risk, weights]: [0.29, 0.5560766404500076, ['CSI Liquor Index'], [1.0]]\n"
     ]
    }
   ],
   "source": [
    "(risks, weights) = bests\n",
    "returns = sorted(risks.keys())\n",
    "\n",
    "for ret in returns:\n",
    "    names = [\n",
    "        candidates[i].name for i in range(len(candidates))\n",
    "        if weights[ret][i] > 0.01\n",
    "    ]\n",
    "    short_weights = [\n",
    "        weights[ret][i] for i in range(len(candidates))\n",
    "        if weights[ret][i] > 0.01\n",
    "    ]\n",
    "    print(f'[return, risk, weights]: [{ret}, {risks[ret]}, {names}, {short_weights}]')"
   ]
  }
 ],
 "metadata": {
  "kernelspec": {
   "display_name": "Python 3",
   "language": "python",
   "name": "python3"
  },
  "language_info": {
   "codemirror_mode": {
    "name": "ipython",
    "version": 3
   },
   "file_extension": ".py",
   "mimetype": "text/x-python",
   "name": "python",
   "nbconvert_exporter": "python",
   "pygments_lexer": "ipython3",
   "version": "3.8.10"
  },
  "orig_nbformat": 4
 },
 "nbformat": 4,
 "nbformat_minor": 2
}
